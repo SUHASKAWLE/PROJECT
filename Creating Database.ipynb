{
 "cells": [
  {
   "cell_type": "markdown",
   "id": "f8f1b87a",
   "metadata": {},
   "source": [
    "# Creating connection to the database"
   ]
  },
  {
   "cell_type": "code",
   "execution_count": 2,
   "id": "a2eeaf67",
   "metadata": {},
   "outputs": [],
   "source": [
    "import mysql.connector"
   ]
  },
  {
   "cell_type": "code",
   "execution_count": 3,
   "id": "d1288f9e",
   "metadata": {},
   "outputs": [],
   "source": [
    "try:\n",
    "    conn=mysql.connector.connect(host='localhost',user='root',password='suhas1995',database='sk')\n",
    "except mysql.connector.Error as err:\n",
    "    print(\"error could not make connection\")\n",
    "    print(err)"
   ]
  },
  {
   "cell_type": "markdown",
   "id": "3887ce79",
   "metadata": {},
   "source": [
    "# Using connection getting cursor that can execute the queries"
   ]
  },
  {
   "cell_type": "code",
   "execution_count": 4,
   "id": "4396d617",
   "metadata": {},
   "outputs": [],
   "source": [
    "try:\n",
    "    cur=conn.cursor()\n",
    "except mysql.connector.Error as err:\n",
    "    print(\"error could not get cursor to database\")\n",
    "    print(err)"
   ]
  },
  {
   "cell_type": "markdown",
   "id": "16ef84ea",
   "metadata": {},
   "source": [
    "# Setting auto commit to true so each action is commited without having to call conn.commit() after each command"
   ]
  },
  {
   "cell_type": "code",
   "execution_count": 7,
   "id": "48dd05f1",
   "metadata": {},
   "outputs": [
    {
     "data": {
      "text/plain": [
       "True"
      ]
     },
     "execution_count": 7,
     "metadata": {},
     "output_type": "execute_result"
    }
   ],
   "source": [
    "cur.autocommit = True\n",
    "cur.autocommit\n",
    "True"
   ]
  },
  {
   "cell_type": "markdown",
   "id": "9baa7a67",
   "metadata": {},
   "source": [
    "# Creating a database to do the work"
   ]
  },
  {
   "cell_type": "code",
   "execution_count": 8,
   "id": "0a532956",
   "metadata": {},
   "outputs": [
    {
     "name": "stdout",
     "output_type": "stream",
     "text": [
      "error could not created database\n",
      "1007 (HY000): Can't create database 'sk'; database exists\n"
     ]
    }
   ],
   "source": [
    "try:\n",
    "    cur.execute('create database sk')\n",
    "except mysql.connector.Error as err:\n",
    "    print(\"error could not created database\")\n",
    "    print(err)"
   ]
  },
  {
   "cell_type": "code",
   "execution_count": 19,
   "id": "3a190a2b",
   "metadata": {},
   "outputs": [],
   "source": [
    "try:\n",
    "    conn.close()\n",
    "except mysql.connector.Error as err:\n",
    "    print(\"error could not close \")\n",
    "    print(err)\n",
    "\n",
    "try:\n",
    "    conn=mysql.connector.connect(host='localhost',user='root',password='suhas1995',database='sk')\n",
    "except mysql.connector.Error as err:\n",
    "    print(\"error could not make connection\")\n",
    "    print(err)\n",
    "    \n",
    "try:\n",
    "    cur=conn.cursor()\n",
    "except mysql.connector.Error as err:\n",
    "    print(\"error could not get cursor to database\")\n",
    "    print(err) \n",
    "    \n"
   ]
  },
  {
   "cell_type": "markdown",
   "id": "0260fa08",
   "metadata": {},
   "source": [
    "# Creating table for the data\n",
    "Student_id\n",
    "\n",
    "Name\n",
    "\n",
    "age\n",
    "\n",
    "gender\n",
    "\n",
    "subject\n",
    "\n",
    "marks"
   ]
  },
  {
   "cell_type": "code",
   "execution_count": 10,
   "id": "9ca3d364",
   "metadata": {},
   "outputs": [],
   "source": [
    "try:\n",
    "    cur.execute(\"CREATE TABLE IF NOT EXISTS students(student_id int, name varchar(250),\\\n",
    "    age int,gender varchar(250),subject varchar(250),marks int);\")\n",
    "except mysql.connector.Error as err:\n",
    "    print(\"error could not create table\")\n",
    "    print(err) \n",
    "    "
   ]
  },
  {
   "cell_type": "markdown",
   "id": "84bcab68",
   "metadata": {},
   "source": [
    "# Inserting rows in table\n",
    "1st row: 1, 'Suhas', 22, Male, Python, 75\n",
    "\n",
    "2nd row: 2, 'Pavan', 23, Male, Python, 80"
   ]
  },
  {
   "cell_type": "code",
   "execution_count": 17,
   "id": "d494dfe5",
   "metadata": {},
   "outputs": [],
   "source": [
    "try:\n",
    "    cur.execute(\"INSERT INTO students(student_id, name, age, gender, subject, marks)\\\n",
    "                VALUES(%s, %s, %s, %s, %s, %s)\",\n",
    "                (1, \"Suhas\", 22, \"Male\", \"Python\", 75));\n",
    "except mysql.connector.Error as err:\n",
    "    print(\"error in inserting value\")\n",
    "    print(err)  \n",
    "\n",
    "try:\n",
    "    cur.execute(\"INSERT INTO students(student_id, name, age, gender, subject, marks)\\\n",
    "                VALUES(%s, %s, %s, %s, %s, %s)\",\n",
    "                (1, \"Pavan\", 23, \"Male\", \"Python\", 80));\n",
    "except mysql.connector.Error as err:\n",
    "    print(\"error in inserting value\")\n",
    "    print(err)\n",
    "    \n",
    "conn.commit()"
   ]
  },
  {
   "cell_type": "code",
   "execution_count": 12,
   "id": "3578a7f8",
   "metadata": {},
   "outputs": [
    {
     "name": "stdout",
     "output_type": "stream",
     "text": [
      "(1, 'Suhas', 22, 'Male', 'Python', 75)\n",
      "(1, 'Pavan', 23, 'Male', 'Python', 80)\n"
     ]
    }
   ],
   "source": [
    "try:\n",
    "    cur.execute(\"SELECT * FROM students;\")\n",
    "except mysql.connector.Error as err:\n",
    "    print(\"error table not created\")\n",
    "    print(err)\n",
    "\n",
    "row=cur.fetchone()\n",
    "while row:\n",
    "    print(row)\n",
    "    row=cur.fetchone()"
   ]
  },
  {
   "cell_type": "markdown",
   "id": "e3bd15dd",
   "metadata": {},
   "source": [
    "# closing connection and cursor"
   ]
  },
  {
   "cell_type": "code",
   "execution_count": 18,
   "id": "b5fd5970",
   "metadata": {},
   "outputs": [],
   "source": [
    "cur.close()\n",
    "conn.close()"
   ]
  },
  {
   "cell_type": "code",
   "execution_count": null,
   "id": "08a9befa",
   "metadata": {},
   "outputs": [],
   "source": []
  }
 ],
 "metadata": {
  "kernelspec": {
   "display_name": "Python 3 (ipykernel)",
   "language": "python",
   "name": "python3"
  },
  "language_info": {
   "codemirror_mode": {
    "name": "ipython",
    "version": 3
   },
   "file_extension": ".py",
   "mimetype": "text/x-python",
   "name": "python",
   "nbconvert_exporter": "python",
   "pygments_lexer": "ipython3",
   "version": "3.11.1"
  }
 },
 "nbformat": 4,
 "nbformat_minor": 5
}
